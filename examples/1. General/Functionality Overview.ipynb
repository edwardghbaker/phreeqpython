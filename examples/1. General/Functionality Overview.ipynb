{
 "cells": [
  {
   "cell_type": "markdown",
   "metadata": {},
   "source": [
    "# PhreeqPython + VIPhreeqc Functionality Overview"
   ]
  },
  {
   "cell_type": "code",
   "execution_count": 2,
   "metadata": {},
   "outputs": [],
   "source": [
    "import phreeqpython\n",
    "pp = phreeqpython.PhreeqPython()"
   ]
  },
  {
   "cell_type": "markdown",
   "metadata": {},
   "source": [
    "## Adding Solutions"
   ]
  },
  {
   "cell_type": "code",
   "execution_count": 3,
   "metadata": {},
   "outputs": [],
   "source": [
    "# Simple, through a reaction block\n",
    "solution = pp.add_solution_simple({'CaCl2':1.0,'NaHCO3':2.0},temperature=15)\n",
    "# Complex, allowing for more 'standard' PHREEQC input (Phreeqc example 3 -- Mixing)\n",
    "solution2 = pp.add_solution({'units':'ppm',\n",
    "                                 'pH': 8.22,\n",
    "                                 'pe': 8.451,\n",
    "                                 'density': 1.023,\n",
    "                                 'temp': 25.0,\n",
    "                                 'Ca': 412.3,\n",
    "                                 'Mg': 1291.8,\n",
    "                                 'Na': 10768.0,\n",
    "                                 'K': 399.1,\n",
    "                                 'Si': 4.28,\n",
    "                                 'Cl': 19353.0,\n",
    "                                 'Alkalinity': '141.682 as HCO3',\n",
    "                                 'S(6)': 2712.0\n",
    "                                })"
   ]
  },
  {
   "cell_type": "markdown",
   "metadata": {},
   "source": [
    "## Solution Information"
   ]
  },
  {
   "cell_type": "markdown",
   "metadata": {},
   "source": [
    "### Basic Properties"
   ]
  },
  {
   "cell_type": "code",
   "execution_count": 4,
   "metadata": {},
   "outputs": [
    {
     "name": "stdout",
     "output_type": "stream",
     "text": [
      "Solution pH: 8.23\n",
      "Solution sc: 334.90\n",
      "Solution pe: 10.5\n",
      "Temperature: 15.0\n",
      "Mass:        1.0\n"
     ]
    }
   ],
   "source": [
    "print(\"Solution pH: {:.3}\".format(solution.pH))\n",
    "print(\"Solution sc: {:3.2f}\".format(solution.sc))\n",
    "print(\"Solution pe: {:.3}\".format(solution.pe))\n",
    "print(\"Temperature: {:.3}\".format(solution.temperature))\n",
    "print(\"Mass:        {:.3}\".format(solution.mass))"
   ]
  },
  {
   "cell_type": "markdown",
   "metadata": {},
   "source": [
    "### Speciation"
   ]
  },
  {
   "cell_type": "code",
   "execution_count": 5,
   "metadata": {},
   "outputs": [
    {
     "data": {
      "text/plain": [
       "{'CH4': 0.0,\n",
       " 'CO2': 2.7909024983359043e-05,\n",
       " 'CO3-2': 1.504189457564534e-05,\n",
       " 'Ca+2': 0.0009734342277295038,\n",
       " 'CaCO3': 1.1724417168794343e-05,\n",
       " 'CaHCO3+': 1.4819423174432155e-05,\n",
       " 'CaOH+': 2.1931927102669182e-08,\n",
       " 'Cl-': 0.0020000000000000005,\n",
       " 'H+': 6.3511969105813895e-09,\n",
       " 'H2': 0.0,\n",
       " 'H2O': 55.50932491627957,\n",
       " 'HCO3-': 0.0019282729745638734,\n",
       " 'Na+': 0.001997767734466099,\n",
       " 'NaCO3-': 2.4888466990103817e-07,\n",
       " 'NaHCO3': 1.983380863998685e-06,\n",
       " 'NaOH': 1.4165712953779178e-19,\n",
       " 'O2': 1.880500103837165e-15,\n",
       " 'OH-': 8.235839079271772e-07}"
      ]
     },
     "execution_count": 5,
     "metadata": {},
     "output_type": "execute_result"
    }
   ],
   "source": [
    "solution.species"
   ]
  },
  {
   "cell_type": "markdown",
   "metadata": {},
   "source": [
    "### Elements"
   ]
  },
  {
   "cell_type": "code",
   "execution_count": 6,
   "metadata": {},
   "outputs": [
    {
     "data": {
      "text/plain": [
       "{'C(4)': 0.002000000000000004,\n",
       " 'Ca': 0.000999999999999833,\n",
       " 'Cl': 0.0020000000000000005,\n",
       " 'Na': 0.001999999999999999,\n",
       " 'O(0)': 3.76100020767433e-15}"
      ]
     },
     "execution_count": 6,
     "metadata": {},
     "output_type": "execute_result"
    }
   ],
   "source": [
    "solution.elements"
   ]
  },
  {
   "cell_type": "markdown",
   "metadata": {},
   "source": [
    "### Phases and their SI"
   ]
  },
  {
   "cell_type": "code",
   "execution_count": 6,
   "metadata": {},
   "outputs": [
    {
     "data": {
      "text/plain": [
       "{'Aragonite': 0.1932078777270103,\n",
       " 'CH4(g)': -125.58800591273227,\n",
       " 'CO2(g)': -3.216751152245572,\n",
       " 'Calcite': 0.34442418867614855,\n",
       " 'Fix_pH': -8.226383714702244,\n",
       " 'H2(g)': -37.424312956480996,\n",
       " 'H2O(g)': -1.7694469897527798,\n",
       " 'Halite': -7.024441375036288,\n",
       " 'O2(g)': -11.912977050671959,\n",
       " 'Vaterite': -0.2494038522747335}"
      ]
     },
     "execution_count": 6,
     "metadata": {},
     "output_type": "execute_result"
    }
   ],
   "source": [
    "solution.phases"
   ]
  },
  {
   "cell_type": "markdown",
   "metadata": {},
   "source": [
    "### Element and Species sums"
   ]
  },
  {
   "cell_type": "code",
   "execution_count": 7,
   "metadata": {},
   "outputs": [
    {
     "data": {
      "text/plain": [
       "2.0000000000000004"
      ]
     },
     "execution_count": 7,
     "metadata": {},
     "output_type": "execute_result"
    }
   ],
   "source": [
    "solution.total_element('Cl', units='mmol')"
   ]
  },
  {
   "cell_type": "code",
   "execution_count": 10,
   "metadata": {},
   "outputs": [
    {
     "data": {
      "text/plain": [
       "118.68237757085221"
      ]
     },
     "execution_count": 10,
     "metadata": {},
     "output_type": "execute_result"
    }
   ],
   "source": [
    "solution.total('HCO3', units='mg') # equavalent to SUM_SPECIES"
   ]
  },
  {
   "cell_type": "markdown",
   "metadata": {},
   "source": [
    "## Modifying Solutions"
   ]
  },
  {
   "cell_type": "markdown",
   "metadata": {},
   "source": [
    "### Adding and Removing"
   ]
  },
  {
   "cell_type": "code",
   "execution_count": 11,
   "metadata": {},
   "outputs": [
    {
     "data": {
      "text/plain": [
       "<phreeqpython.solution.Solution at 0x10e854668>"
      ]
     },
     "execution_count": 11,
     "metadata": {},
     "output_type": "execute_result"
    }
   ],
   "source": [
    "solution.add('NaOH',1, 'mmol')              # add 1 mmol of NaOH\n",
    "solution.remove('NaCl',1, 'mmol')           # remove 1 mmol of NaCl\n",
    "solution.remove_fraction('CO3',0.5) # remove 50% of CO3"
   ]
  },
  {
   "cell_type": "markdown",
   "metadata": {},
   "source": [
    "### Saturation and Desaturation"
   ]
  },
  {
   "cell_type": "code",
   "execution_count": 13,
   "metadata": {},
   "outputs": [
    {
     "data": {
      "text/plain": [
       "<phreeqpython.solution.Solution at 0x10e854668>"
      ]
     },
     "execution_count": 13,
     "metadata": {},
     "output_type": "execute_result"
    }
   ],
   "source": [
    "solution.saturate('Calcite',1.0)    # Saturate to SI 1.0\n",
    "solution.desaturate('Calcite',0.0)  # Desaturate to SI 0.0"
   ]
  },
  {
   "cell_type": "markdown",
   "metadata": {},
   "source": [
    "### Changing pH"
   ]
  },
  {
   "cell_type": "code",
   "execution_count": 14,
   "metadata": {},
   "outputs": [
    {
     "data": {
      "text/plain": [
       "5.0"
      ]
     },
     "execution_count": 14,
     "metadata": {},
     "output_type": "execute_result"
    }
   ],
   "source": [
    "solution.change_ph(5,'HCl')         # Change pH to 5 by dosing HCl\n",
    "solution.pH"
   ]
  },
  {
   "cell_type": "markdown",
   "metadata": {},
   "source": [
    "### Changing Temperature"
   ]
  },
  {
   "cell_type": "code",
   "execution_count": 16,
   "metadata": {},
   "outputs": [
    {
     "data": {
      "text/plain": [
       "10.0"
      ]
     },
     "execution_count": 16,
     "metadata": {},
     "output_type": "execute_result"
    }
   ],
   "source": [
    "solution.change_temperature(10)     # Change temperature to 10 degrees\n",
    "solution.temperature"
   ]
  },
  {
   "cell_type": "markdown",
   "metadata": {},
   "source": [
    "## Mixing Solutions"
   ]
  },
  {
   "cell_type": "code",
   "execution_count": 23,
   "metadata": {},
   "outputs": [
    {
     "name": "stdout",
     "output_type": "stream",
     "text": [
      "Solution 3:\n",
      "Total Chloride: 2.0 mmol\n",
      "Mass: 1.0\n",
      "\n",
      "Solution 4:\n",
      "Total Chloride: 4.0 mmol\n",
      "Mass: 2.0\n"
     ]
    }
   ],
   "source": [
    "solution1 = pp.add_solution_simple({'NaCl':1})\n",
    "solution2 = pp.add_solution_simple({'NaCl':3})\n",
    "# make a solution of 50% solution 1 and 50% solution 2:\n",
    "solution3 = solution1 * 0.5 + solution2 * 0.5\n",
    "# make a solution by mixing solution 1 and 2 together\n",
    "solution4 = solution1 + solution2\n",
    "print(\"Solution 3:\")\n",
    "print(\"Total Chloride: {:.3} mmol\".format(solution3.total('Cl')))\n",
    "print(\"Mass: {:.3}\".format(solution3.mass))\n",
    "print(\"\")\n",
    "print(\"Solution 4:\")\n",
    "print(\"Total Chloride: {:.3} mmol\".format(solution4.total('Cl')))\n",
    "print(\"Mass: {:.3}\".format(solution4.mass))"
   ]
  },
  {
   "cell_type": "markdown",
   "metadata": {},
   "source": [
    "## Misc. Functionality"
   ]
  },
  {
   "cell_type": "markdown",
   "metadata": {},
   "source": [
    "### Copying Solutions"
   ]
  },
  {
   "cell_type": "code",
   "execution_count": 25,
   "metadata": {},
   "outputs": [
    {
     "name": "stdout",
     "output_type": "stream",
     "text": [
      "245.0526302945747\n"
     ]
    }
   ],
   "source": [
    "solution5 = solution4.copy()\n",
    "print(solution5.sc)"
   ]
  },
  {
   "cell_type": "markdown",
   "metadata": {},
   "source": [
    "### Forgetting solutions"
   ]
  },
  {
   "cell_type": "code",
   "execution_count": 26,
   "metadata": {},
   "outputs": [],
   "source": [
    "solution5.forget()"
   ]
  }
 ],
 "metadata": {
  "kernelspec": {
   "display_name": "Python 3",
   "language": "python",
   "name": "python3"
  },
  "language_info": {
   "codemirror_mode": {
    "name": "ipython",
    "version": 3
   },
   "file_extension": ".py",
   "mimetype": "text/x-python",
   "name": "python",
   "nbconvert_exporter": "python",
   "pygments_lexer": "ipython3",
   "version": "3.11.1"
  }
 },
 "nbformat": 4,
 "nbformat_minor": 1
}
